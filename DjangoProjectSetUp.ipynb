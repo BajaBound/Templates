{
  "nbformat": 4,
  "nbformat_minor": 0,
  "metadata": {
    "colab": {
      "provenance": [],
      "collapsed_sections": [
        "JYL6lX_VKr3r",
        "3SDUajYiJ4lI",
        "K56XWa1DLlPm",
        "jPOs2cGHL9w-"
      ],
      "toc_visible": true,
      "authorship_tag": "ABX9TyM7UqRbE7xQhpSoUFHBg2x3",
      "include_colab_link": true
    },
    "kernelspec": {
      "name": "python3",
      "display_name": "Python 3"
    },
    "language_info": {
      "name": "python"
    }
  },
  "cells": [
    {
      "cell_type": "markdown",
      "metadata": {
        "id": "view-in-github",
        "colab_type": "text"
      },
      "source": [
        "<a href=\"https://colab.research.google.com/github/BajaBound/Templates/blob/main/DjangoProjectSetUp.ipynb\" target=\"_parent\"><img src=\"https://colab.research.google.com/assets/colab-badge.svg\" alt=\"Open In Colab\"/></a>"
      ]
    },
    {
      "cell_type": "markdown",
      "source": [
        "# Create a virtual environment"
      ],
      "metadata": {
        "id": "JYL6lX_VKr3r"
      }
    },
    {
      "cell_type": "markdown",
      "source": [
        "1.   python3 -m venv venv\n",
        "2.   source venv/bin/activate"
      ],
      "metadata": {
        "id": "zKXloL8VKcv6"
      }
    },
    {
      "cell_type": "markdown",
      "source": [
        "# Create a .gitignore file"
      ],
      "metadata": {
        "id": "3SDUajYiJ4lI"
      }
    },
    {
      "cell_type": "markdown",
      "source": [
        "1.   Create a new file on the tree\n",
        "2.   Name the file .gitignore\n",
        "3.   Place the following in the gitignore file\n",
        "\n",
        "        i. venv/\n",
        "        \n",
        "        ii. _pycache_ (once created)"
      ],
      "metadata": {
        "id": "iUycAEI-IbT_"
      }
    },
    {
      "cell_type": "markdown",
      "source": [
        "# Install Django  "
      ],
      "metadata": {
        "id": "K56XWa1DLlPm"
      }
    },
    {
      "cell_type": "markdown",
      "source": [
        "pip3 install django"
      ],
      "metadata": {
        "id": "e_rUUAIWLx0K"
      }
    },
    {
      "cell_type": "markdown",
      "source": [
        "# Install RestFramework"
      ],
      "metadata": {
        "id": "jPOs2cGHL9w-"
      }
    },
    {
      "cell_type": "markdown",
      "source": [
        "pip3 install djangorestframework"
      ],
      "metadata": {
        "id": "9ZuyZcODMDsE"
      }
    },
    {
      "cell_type": "markdown",
      "source": [
        "# Install Psycopg Binary"
      ],
      "metadata": {
        "id": "yux4wp1xMJIU"
      }
    },
    {
      "cell_type": "markdown",
      "source": [
        "pip3 install psycopg binary"
      ],
      "metadata": {
        "id": "MI4LoCQbMMwK"
      }
    },
    {
      "cell_type": "markdown",
      "source": [
        "# New Section"
      ],
      "metadata": {
        "id": "TljWfiFnMUJG"
      }
    }
  ]
}